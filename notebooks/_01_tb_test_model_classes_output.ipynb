{
 "cells": [
  {
   "cell_type": "code",
   "execution_count": 1,
   "metadata": {
    "execution": {
     "iopub.execute_input": "2020-09-12T02:33:55.844431Z",
     "iopub.status.busy": "2020-09-12T02:33:55.843603Z",
     "iopub.status.idle": "2020-09-12T02:33:58.162438Z",
     "shell.execute_reply": "2020-09-12T02:33:58.161783Z"
    },
    "papermill": {
     "duration": 2.332473,
     "end_time": "2020-09-12T02:33:58.162615",
     "exception": false,
     "start_time": "2020-09-12T02:33:55.830142",
     "status": "completed"
    },
    "tags": []
   },
   "outputs": [],
   "source": [
    "import os\n",
    "import random\n",
    "\n",
    "import numpy as np\n",
    "import scipy.stats\n",
    "import seaborn as sbn\n",
    "import torch\n",
    "from sklearn.datasets import load_boston\n",
    "\n",
    "from prior_elicitation.models.folded_logistic_glm import FoldedLogisticGLM\n",
    "from prior_elicitation.models.linear_glm import LinearGLM"
   ]
  },
  {
   "cell_type": "code",
   "execution_count": 2,
   "metadata": {
    "execution": {
     "iopub.execute_input": "2020-09-12T02:33:58.192690Z",
     "iopub.status.busy": "2020-09-12T02:33:58.192102Z",
     "iopub.status.idle": "2020-09-12T02:33:58.196573Z",
     "shell.execute_reply": "2020-09-12T02:33:58.195436Z"
    },
    "lines_to_end_of_cell_marker": 0,
    "lines_to_next_cell": 1,
    "papermill": {
     "duration": 0.024178,
     "end_time": "2020-09-12T02:33:58.196749",
     "exception": false,
     "start_time": "2020-09-12T02:33:58.172571",
     "status": "completed"
    },
    "tags": [
     "parameters"
    ]
   },
   "outputs": [],
   "source": [
    "#parameters\n",
    "MODEL: str = \"folded-logistic\"\n",
    "COLUMN: str = \"intercept\"\n",
    "PERCENTILE: int = 25\n",
    "PRIOR_INFO: dict = {\n",
    "    'AGE': {'dist': 'norm', 'loc': 0, 'scale': 1},\n",
    "    'B': {'dist': 'norm', 'loc': 0, 'scale': 1},\n",
    "    'CHAS': {'dist': 'norm', 'loc': 0, 'scale': 1},\n",
    "    'CRIM': {'dist': 'norm', 'loc': 0, 'scale': 1},\n",
    "    'DIS': {'dist': 'norm', 'loc': 0, 'scale': 1},\n",
    "    'INDUS': {'dist': 'norm', 'loc': 0, 'scale': 1},\n",
    "    'LSTAT': {'dist': 'norm', 'loc': 0, 'scale': 1},\n",
    "    'NOX': {'dist': 'norm', 'loc': 0, 'scale': 1},\n",
    "    'PTRATIO': {'dist': 'norm', 'loc': 0, 'scale': 1},\n",
    "    'RAD': {'dist': 'norm', 'loc': 0, 'scale': 1},\n",
    "    'RM': {'dist': 'norm', 'loc': 0, 'scale': 1},\n",
    "    'TAX': {'dist': 'norm', 'loc': 0, 'scale': 1},\n",
    "    'ZN': {'dist': 'norm', 'loc': 0, 'scale': 1},\n",
    "    'intercept': {'dist': 'norm', 'loc': 0, 'scale': 1},\n",
    "    'scale': {'c': 0, 'dist': 'foldnorm', 'loc': 10, 'scale': 1}}\n",
    "NUM_PRIOR_SIM: int = 100  # Establish a number of simulations from the prior\n",
    "SEED: int = 29  # What's the random seed for reproducibility\n",
    "PLOT_PATH: str = (\n",
    "#     \"../reports/figures/_001/25th_percentile_intercept_times_outcome.png\"\n",
    "    \"../reports/figures/test_plot.png\"\n",
    ")\n",
    "SAVE: bool = True"
   ]
  },
  {
   "cell_type": "code",
   "execution_count": 3,
   "metadata": {
    "execution": {
     "iopub.execute_input": "2020-09-12T02:33:58.226129Z",
     "iopub.status.busy": "2020-09-12T02:33:58.225287Z",
     "iopub.status.idle": "2020-09-12T02:33:58.227495Z",
     "shell.execute_reply": "2020-09-12T02:33:58.228385Z"
    },
    "papermill": {
     "duration": 0.022689,
     "end_time": "2020-09-12T02:33:58.228595",
     "exception": false,
     "start_time": "2020-09-12T02:33:58.205906",
     "status": "completed"
    },
    "tags": [
     "injected-parameters"
    ]
   },
   "outputs": [],
   "source": [
    "# Parameters\n",
    "MODEL = \"folded-logistic\"\n",
    "COLUMN = \"intercept\"\n",
    "PERCENTILE = 25\n",
    "PRIOR_INFO = {\n",
    "    \"AGE\": {\"dist\": \"norm\", \"loc\": 0, \"scale\": 1},\n",
    "    \"B\": {\"dist\": \"norm\", \"loc\": 0.0, \"scale\": 5.0},\n",
    "    \"CHAS\": {\"dist\": \"norm\", \"loc\": 0.0, \"scale\": 5.0},\n",
    "    \"CRIM\": {\"dist\": \"norm\", \"loc\": 0.0, \"scale\": 5.0},\n",
    "    \"DIS\": {\"dist\": \"norm\", \"loc\": 0.0, \"scale\": 5.0},\n",
    "    \"INDUS\": {\"dist\": \"norm\", \"loc\": 0.0, \"scale\": 5.0},\n",
    "    \"LSTAT\": {\"dist\": \"norm\", \"loc\": 0.0, \"scale\": 5.0},\n",
    "    \"NOX\": {\"dist\": \"norm\", \"loc\": 0.0, \"scale\": 5.0},\n",
    "    \"PTRATIO\": {\"dist\": \"norm\", \"loc\": 0.0, \"scale\": 5.0},\n",
    "    \"RAD\": {\"dist\": \"norm\", \"loc\": 0.0, \"scale\": 5.0},\n",
    "    \"RM\": {\"dist\": \"norm\", \"loc\": 0.0, \"scale\": 5.0},\n",
    "    \"TAX\": {\"dist\": \"norm\", \"loc\": 0.0, \"scale\": 5.0},\n",
    "    \"ZN\": {\"dist\": \"norm\", \"loc\": 0.0, \"scale\": 5.0},\n",
    "    \"intercept\": {\"dist\": \"norm\", \"loc\": 0.0, \"scale\": 5.0},\n",
    "    \"scale\": {\"dist\": \"foldnorm\", \"loc\": 1.0, \"scale\": 0.01, \"c\": 0},\n",
    "    \"Age\": {\"dist\": \"norm\", \"loc\": 0.0, \"scale\": 5.0},\n",
    "}\n",
    "NUM_PRIOR_SIM = 100\n",
    "SEED = 129\n",
    "PLOT_PATH = (\n",
    "    \"/Users/timothyb0912/Documents/prior_elicitation/reports/figures/test_plot.png\"\n",
    ")\n",
    "SAVE = True\n"
   ]
  },
  {
   "cell_type": "markdown",
   "metadata": {
    "papermill": {
     "duration": 0.010195,
     "end_time": "2020-09-12T02:33:58.248937",
     "exception": false,
     "start_time": "2020-09-12T02:33:58.238742",
     "status": "completed"
    },
    "tags": []
   },
   "source": [
    "# Load and transform data"
   ]
  },
  {
   "cell_type": "code",
   "execution_count": 4,
   "metadata": {
    "execution": {
     "iopub.execute_input": "2020-09-12T02:33:58.279485Z",
     "iopub.status.busy": "2020-09-12T02:33:58.277806Z",
     "iopub.status.idle": "2020-09-12T02:33:58.287841Z",
     "shell.execute_reply": "2020-09-12T02:33:58.288287Z"
    },
    "papermill": {
     "duration": 0.030508,
     "end_time": "2020-09-12T02:33:58.288427",
     "exception": false,
     "start_time": "2020-09-12T02:33:58.257919",
     "status": "completed"
    },
    "tags": []
   },
   "outputs": [],
   "source": [
    "data_container = load_boston()"
   ]
  },
  {
   "cell_type": "code",
   "execution_count": 5,
   "metadata": {
    "execution": {
     "iopub.execute_input": "2020-09-12T02:33:58.319115Z",
     "iopub.status.busy": "2020-09-12T02:33:58.318654Z",
     "iopub.status.idle": "2020-09-12T02:33:58.320956Z",
     "shell.execute_reply": "2020-09-12T02:33:58.321323Z"
    },
    "lines_to_next_cell": 2,
    "papermill": {
     "duration": 0.018703,
     "end_time": "2020-09-12T02:33:58.321439",
     "exception": false,
     "start_time": "2020-09-12T02:33:58.302736",
     "status": "completed"
    },
    "tags": []
   },
   "outputs": [],
   "source": [
    "raw_design = data_container[\"data\"]\n",
    "training_num_obs = raw_design.shape[0]\n",
    "training_design_np = np.concatenate(\n",
    "    (np.ones((training_num_obs, 1)), raw_design), axis=1\n",
    ")\n",
    "training_outcomes_np = data_container[\"target\"].ravel()\n",
    "training_design_column_names = (\n",
    "    [\"intercept\"] + [col for col in data_container[\"feature_names\"]]\n",
    ")\n",
    "parameter_names = training_design_column_names + [\"scale\"]"
   ]
  },
  {
   "cell_type": "markdown",
   "metadata": {
    "papermill": {
     "duration": 0.008825,
     "end_time": "2020-09-12T02:33:58.341025",
     "exception": false,
     "start_time": "2020-09-12T02:33:58.332200",
     "status": "completed"
    },
    "tags": []
   },
   "source": [
    "# Load models"
   ]
  },
  {
   "cell_type": "code",
   "execution_count": 6,
   "metadata": {
    "execution": {
     "iopub.execute_input": "2020-09-12T02:33:58.368136Z",
     "iopub.status.busy": "2020-09-12T02:33:58.367578Z",
     "iopub.status.idle": "2020-09-12T02:33:58.369374Z",
     "shell.execute_reply": "2020-09-12T02:33:58.369769Z"
    },
    "papermill": {
     "duration": 0.016201,
     "end_time": "2020-09-12T02:33:58.369889",
     "exception": false,
     "start_time": "2020-09-12T02:33:58.353688",
     "status": "completed"
    },
    "tags": []
   },
   "outputs": [],
   "source": [
    "training_design_torch = torch.from_numpy(training_design_np).double()\n",
    "training_outcomes_torch = torch.from_numpy(training_outcomes_np).double()"
   ]
  },
  {
   "cell_type": "code",
   "execution_count": 7,
   "metadata": {
    "execution": {
     "iopub.execute_input": "2020-09-12T02:33:58.392257Z",
     "iopub.status.busy": "2020-09-12T02:33:58.391573Z",
     "iopub.status.idle": "2020-09-12T02:33:58.395140Z",
     "shell.execute_reply": "2020-09-12T02:33:58.395493Z"
    },
    "papermill": {
     "duration": 0.016641,
     "end_time": "2020-09-12T02:33:58.395611",
     "exception": false,
     "start_time": "2020-09-12T02:33:58.378970",
     "status": "completed"
    },
    "tags": []
   },
   "outputs": [],
   "source": [
    "linear_model = LinearGLM.from_input(training_design_torch)\n",
    "folded_logistic_model = FoldedLogisticGLM.from_input(training_design_torch)"
   ]
  },
  {
   "cell_type": "code",
   "execution_count": 8,
   "metadata": {
    "execution": {
     "iopub.execute_input": "2020-09-12T02:33:58.420178Z",
     "iopub.status.busy": "2020-09-12T02:33:58.419705Z",
     "iopub.status.idle": "2020-09-12T02:33:58.441305Z",
     "shell.execute_reply": "2020-09-12T02:33:58.441982Z"
    },
    "papermill": {
     "duration": 0.03711,
     "end_time": "2020-09-12T02:33:58.442172",
     "exception": false,
     "start_time": "2020-09-12T02:33:58.405062",
     "status": "completed"
    },
    "tags": []
   },
   "outputs": [],
   "source": [
    "with torch.no_grad():\n",
    "    linear_preds = linear_model(training_design_torch)\n",
    "    folded_preds = folded_logistic_model(training_design_torch)"
   ]
  },
  {
   "cell_type": "markdown",
   "metadata": {
    "papermill": {
     "duration": 0.014071,
     "end_time": "2020-09-12T02:33:58.469642",
     "exception": false,
     "start_time": "2020-09-12T02:33:58.455571",
     "status": "completed"
    },
    "tags": []
   },
   "source": [
    "# Sample parameters from the prior distribution"
   ]
  },
  {
   "cell_type": "code",
   "execution_count": 9,
   "metadata": {
    "execution": {
     "iopub.execute_input": "2020-09-12T02:33:58.498226Z",
     "iopub.status.busy": "2020-09-12T02:33:58.497356Z",
     "iopub.status.idle": "2020-09-12T02:33:58.503256Z",
     "shell.execute_reply": "2020-09-12T02:33:58.502856Z"
    },
    "papermill": {
     "duration": 0.023366,
     "end_time": "2020-09-12T02:33:58.503360",
     "exception": false,
     "start_time": "2020-09-12T02:33:58.479994",
     "status": "completed"
    },
    "tags": []
   },
   "outputs": [
    {
     "name": "stdout",
     "output_type": "stream",
     "text": [
      "(16, 100)\n"
     ]
    }
   ],
   "source": [
    "# Choose the model to simulate from\n",
    "model_dict = {\"folded-logistic\": folded_logistic_model, \"linear\": linear_model}\n",
    "current_model = model_dict[MODEL]\n",
    "\n",
    "# Set a random seed for reproducility\n",
    "np.random.seed(SEED)\n",
    "torch.manual_seed(SEED)\n",
    "\n",
    "# Simulate parameters from the prior\n",
    "prior_sim_parameters = np.empty((len(PRIOR_INFO), NUM_PRIOR_SIM), dtype=float)\n",
    "\n",
    "for pos, key in enumerate(parameter_names):\n",
    "    if PRIOR_INFO[key][\"dist\"] == \"norm\":\n",
    "        prior_sim_parameters[pos, :] = scipy.stats.norm.rvs(\n",
    "            loc = PRIOR_INFO[key][\"loc\"],\n",
    "            scale = PRIOR_INFO[key][\"scale\"],\n",
    "            size = NUM_PRIOR_SIM,\n",
    "        )\n",
    "    elif PRIOR_INFO[key][\"dist\"] == \"foldnorm\":\n",
    "        prior_sim_parameters[pos, :] = scipy.stats.foldnorm.rvs(\n",
    "            c = PRIOR_INFO[key][\"c\"],\n",
    "            loc = PRIOR_INFO[key][\"loc\"],\n",
    "            scale = PRIOR_INFO[key][\"scale\"],\n",
    "            size=NUM_PRIOR_SIM,\n",
    "        )\n",
    "\n",
    "print(prior_sim_parameters.shape)"
   ]
  },
  {
   "cell_type": "markdown",
   "metadata": {
    "papermill": {
     "duration": 0.010489,
     "end_time": "2020-09-12T02:33:58.525733",
     "exception": false,
     "start_time": "2020-09-12T02:33:58.515244",
     "status": "completed"
    },
    "tags": []
   },
   "source": [
    "# Sample outcomes from the prior distribution"
   ]
  },
  {
   "cell_type": "code",
   "execution_count": 10,
   "metadata": {
    "execution": {
     "iopub.execute_input": "2020-09-12T02:33:58.555815Z",
     "iopub.status.busy": "2020-09-12T02:33:58.555306Z",
     "iopub.status.idle": "2020-09-12T02:33:58.625550Z",
     "shell.execute_reply": "2020-09-12T02:33:58.625956Z"
    },
    "papermill": {
     "duration": 0.08841,
     "end_time": "2020-09-12T02:33:58.626094",
     "exception": false,
     "start_time": "2020-09-12T02:33:58.537684",
     "status": "completed"
    },
    "tags": []
   },
   "outputs": [],
   "source": [
    "# Draw from the prior predictive distribution\n",
    "prior_sim_outcomes = np.empty((training_design_np.shape[0], NUM_PRIOR_SIM), dtype=float)\n",
    "\n",
    "with torch.no_grad():\n",
    "    for i in range(NUM_PRIOR_SIM):\n",
    "        current_params = prior_sim_parameters[:, i]\n",
    "        current_model.set_params_numpy(current_params)\n",
    "        prior_sim_outcomes[:, i] = current_model.simulate(\n",
    "            training_design_torch, num_sim=1,\n",
    "        ).ravel()\n"
   ]
  },
  {
   "cell_type": "markdown",
   "metadata": {
    "papermill": {
     "duration": 0.011522,
     "end_time": "2020-09-12T02:33:58.649259",
     "exception": false,
     "start_time": "2020-09-12T02:33:58.637737",
     "status": "completed"
    },
    "tags": []
   },
   "source": [
    "# Create desired plots"
   ]
  },
  {
   "cell_type": "code",
   "execution_count": 11,
   "metadata": {
    "execution": {
     "iopub.execute_input": "2020-09-12T02:33:58.686306Z",
     "iopub.status.busy": "2020-09-12T02:33:58.685127Z",
     "iopub.status.idle": "2020-09-12T02:34:00.054915Z",
     "shell.execute_reply": "2020-09-12T02:34:00.054448Z"
    },
    "papermill": {
     "duration": 1.395902,
     "end_time": "2020-09-12T02:34:00.055025",
     "exception": false,
     "start_time": "2020-09-12T02:33:58.659123",
     "status": "completed"
    },
    "tags": []
   },
   "outputs": [
    {
     "data": {
      "image/png": "[encoded data removed]",
      "text/plain": [
       "<Figure size 720x432 with 1 Axes>"
      ]
     },
     "metadata": {
      "needs_background": "light"
     },
     "output_type": "display_data"
    }
   ],
   "source": [
    "def percentile_closure(percentile):\n",
    "    def _calc_25th_percentile(array_like):\n",
    "        return np.percentile(array_like, percentile, axis=0)\n",
    "    return _calc_25th_percentile\n",
    "\n",
    "\n",
    "def make_percentile_plot(\n",
    "    calc_percentile_func, design, obs_outcomes, sim_outcomes, col_names, save\n",
    "):\n",
    "    column_idx = col_names.index(COLUMN)\n",
    "    sim_product = sim_outcomes * design[:, column_idx][:, None]\n",
    "    obs_product = obs_outcomes * design[:, column_idx]\n",
    "    percentiles_of_sim_product = calc_percentile_func(sim_product)\n",
    "    percentiles_of_obs_product = calc_percentile_func(obs_product)\n",
    "\n",
    "    p_value = (percentiles_of_sim_product > percentiles_of_obs_product).mean()\n",
    "\n",
    "    sim_label = \"Simulated\"\n",
    "    obs_label = \"Observed = {:.1f}\\nP-value = {:.0%}\".format(\n",
    "        percentiles_of_obs_product, p_value\n",
    "    )\n",
    "\n",
    "    plot = sbn.distplot(\n",
    "        percentiles_of_sim_product, kde=False, hist=True, label=sim_label\n",
    "    )\n",
    "    ymin, ymax = plot.get_ylim()\n",
    "    plot.vlines(\n",
    "        percentiles_of_obs_product,\n",
    "        ymin,\n",
    "        ymax,\n",
    "        label=obs_label,\n",
    "        linestyle=\"dashed\",\n",
    "        color=\"black\",\n",
    "    )\n",
    "\n",
    "    max_obs_product = obs_product.max()\n",
    "    min_obs_product = obs_product.min()\n",
    "\n",
    "    plot.vlines(\n",
    "        obs_product.min(),\n",
    "        ymin,\n",
    "        ymax,\n",
    "        label=f\"Minimum Outcome * {COLUMN} = {min_obs_product}\",\n",
    "        linestyle=\"dotted\",\n",
    "        color=\"black\",\n",
    "    )\n",
    "\n",
    "\n",
    "    plot.vlines(\n",
    "        obs_product.max(),\n",
    "        ymin,\n",
    "        ymax,\n",
    "        label=f\"Maximum Outcome * {COLUMN} = {max_obs_product}\",\n",
    "        linestyle=\"dashdot\",\n",
    "        color=\"black\",\n",
    "    )\n",
    "    plot.legend(loc=\"best\")\n",
    "\n",
    "    xlabel = (\n",
    "        \"{}-Percentile of [Median Home Value * {}]\".format(PERCENTILE, COLUMN)\n",
    "    )\n",
    "    plot.set_xlabel(xlabel)\n",
    "    plot.set_ylabel(\"Count\", rotation=0, labelpad=40)\n",
    "    plot.set_title(MODEL)\n",
    "\n",
    "    plot.figure.set_size_inches(10, 6)\n",
    "    sbn.despine()\n",
    "    plot.figure.tight_layout()\n",
    "    if save:\n",
    "        plot.figure.savefig(PLOT_PATH, dpi=500, bbox_inches=\"tight\")\n",
    "    return plot\n",
    "\n",
    "calc_percentile = percentile_closure(PERCENTILE)\n",
    "\n",
    "percentile_plot = make_percentile_plot(\n",
    "    calc_percentile,\n",
    "    training_design_np,\n",
    "    training_outcomes_np,\n",
    "    prior_sim_outcomes,\n",
    "    training_design_column_names,\n",
    "    SAVE,\n",
    ")"
   ]
  },
  {
   "cell_type": "markdown",
   "metadata": {
    "papermill": {
     "duration": 0.017833,
     "end_time": "2020-09-12T02:34:00.086374",
     "exception": false,
     "start_time": "2020-09-12T02:34:00.068541",
     "status": "completed"
    },
    "tags": []
   },
   "source": [
    "# To-Do:\n",
    "Add complete compendium of desired prior predictive plots."
   ]
  },
  {
   "cell_type": "code",
   "execution_count": 12,
   "metadata": {
    "execution": {
     "iopub.execute_input": "2020-09-12T02:34:00.122178Z",
     "iopub.status.busy": "2020-09-12T02:34:00.121667Z",
     "iopub.status.idle": "2020-09-12T02:34:00.123822Z",
     "shell.execute_reply": "2020-09-12T02:34:00.124225Z"
    },
    "papermill": {
     "duration": 0.020773,
     "end_time": "2020-09-12T02:34:00.124348",
     "exception": false,
     "start_time": "2020-09-12T02:34:00.103575",
     "status": "completed"
    },
    "tags": []
   },
   "outputs": [],
   "source": [
    "# Make desired prior predictive plots"
   ]
  }
 ],
 "metadata": {
  "celltoolbar": "Tags",
  "jupytext": {
   "formats": "ipynb,py:light"
  },
  "kernelspec": {
   "display_name": "Python 3",
   "language": "python",
   "name": "python3"
  },
  "language_info": {
   "codemirror_mode": {
    "name": "ipython",
    "version": 3
   },
   "file_extension": ".py",
   "mimetype": "text/x-python",
   "name": "python",
   "nbconvert_exporter": "python",
   "pygments_lexer": "ipython3",
   "version": "3.7.0"
  },
  "papermill": {
   "duration": 6.070797,
   "end_time": "2020-09-12T02:34:00.649478",
   "environment_variables": {},
   "exception": null,
   "input_path": "/Users/timothyb0912/Documents/prior_elicitation/notebooks/_01_tb_test_model_classes.ipynb",
   "output_path": "/Users/timothyb0912/Documents/prior_elicitation/notebooks/_01_tb_test_model_classes_output.ipynb",
   "parameters": {
    "COLUMN": "intercept",
    "MODEL": "folded-logistic",
    "NUM_PRIOR_SIM": 100,
    "PERCENTILE": 25,
    "PLOT_PATH": "/Users/timothyb0912/Documents/prior_elicitation/reports/figures/test_plot.png",
    "PRIOR_INFO": {
     "AGE": {
      "dist": "norm",
      "loc": 0,
      "scale": 1
     },
     "Age": {
      "dist": "norm",
      "loc": 0.0,
      "scale": 5.0
     },
     "B": {
      "dist": "norm",
      "loc": 0.0,
      "scale": 5.0
     },
     "CHAS": {
      "dist": "norm",
      "loc": 0.0,
      "scale": 5.0
     },
     "CRIM": {
      "dist": "norm",
      "loc": 0.0,
      "scale": 5.0
     },
     "DIS": {
      "dist": "norm",
      "loc": 0.0,
      "scale": 5.0
     },
     "INDUS": {
      "dist": "norm",
      "loc": 0.0,
      "scale": 5.0
     },
     "LSTAT": {
      "dist": "norm",
      "loc": 0.0,
      "scale": 5.0
     },
     "NOX": {
      "dist": "norm",
      "loc": 0.0,
      "scale": 5.0
     },
     "PTRATIO": {
      "dist": "norm",
      "loc": 0.0,
      "scale": 5.0
     },
     "RAD": {
      "dist": "norm",
      "loc": 0.0,
      "scale": 5.0
     },
     "RM": {
      "dist": "norm",
      "loc": 0.0,
      "scale": 5.0
     },
     "TAX": {
      "dist": "norm",
      "loc": 0.0,
      "scale": 5.0
     },
     "ZN": {
      "dist": "norm",
      "loc": 0.0,
      "scale": 5.0
     },
     "intercept": {
      "dist": "norm",
      "loc": 0.0,
      "scale": 5.0
     },
     "scale": {
      "c": 0,
      "dist": "foldnorm",
      "loc": 1.0,
      "scale": 0.01
     }
    },
    "SAVE": true,
    "SEED": 129
   },
   "start_time": "2020-09-12T02:33:54.578681",
   "version": "2.1.2"
  }
 },
 "nbformat": 4,
 "nbformat_minor": 4
}