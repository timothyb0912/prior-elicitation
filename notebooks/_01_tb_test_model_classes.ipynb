{
 "cells": [
  {
   "cell_type": "code",
   "execution_count": 1,
   "metadata": {},
   "outputs": [],
   "source": [
    "import os\n",
    "import random\n",
    "\n",
    "import numpy as np\n",
    "import scipy.stats\n",
    "import seaborn as sbn\n",
    "import torch\n",
    "from sklearn.datasets import load_boston\n",
    "\n",
    "from prior_elicitation.models.folded_logistic_glm import FoldedLogisticGLM\n",
    "from prior_elicitation.models.linear_glm import LinearGLM"
   ]
  },
  {
   "cell_type": "code",
   "execution_count": 2,
   "metadata": {
    "lines_to_end_of_cell_marker": 0,
    "lines_to_next_cell": 1,
    "tags": [
     "parameters"
    ]
   },
   "outputs": [],
   "source": [
    "#parameters\n",
    "MODEL: str = \"folded-logistic\"\n",
    "COLUMN: str = \"intercept\"\n",
    "PERCENTILE: int = 25\n",
    "PRIOR_INFO: dict = {\n",
    "    'AGE': {'dist': 'norm', 'loc': 0, 'scale': 1},\n",
    "    'B': {'dist': 'norm', 'loc': 0, 'scale': 1},\n",
    "    'CHAS': {'dist': 'norm', 'loc': 0, 'scale': 1},\n",
    "    'CRIM': {'dist': 'norm', 'loc': 0, 'scale': 1},\n",
    "    'DIS': {'dist': 'norm', 'loc': 0, 'scale': 1},\n",
    "    'INDUS': {'dist': 'norm', 'loc': 0, 'scale': 1},\n",
    "    'LSTAT': {'dist': 'norm', 'loc': 0, 'scale': 1},\n",
    "    'NOX': {'dist': 'norm', 'loc': 0, 'scale': 1},\n",
    "    'PTRATIO': {'dist': 'norm', 'loc': 0, 'scale': 1},\n",
    "    'RAD': {'dist': 'norm', 'loc': 0, 'scale': 1},\n",
    "    'RM': {'dist': 'norm', 'loc': 0, 'scale': 1},\n",
    "    'TAX': {'dist': 'norm', 'loc': 0, 'scale': 1},\n",
    "    'ZN': {'dist': 'norm', 'loc': 0, 'scale': 1},\n",
    "    'intercept': {'dist': 'norm', 'loc': 0, 'scale': 1},\n",
    "    'scale': {'c': 0, 'dist': 'foldnorm', 'loc': 10, 'scale': 1}}\n",
    "NUM_PRIOR_SIM: int = 100  # Establish a number of simulations from the prior\n",
    "SEED: int = 29  # What's the random seed for reproducibility\n",
    "PLOT_PATH: str = (\n",
    "#     \"../reports/figures/_001/25th_percentile_intercept_times_outcome.png\"\n",
    "    \"../reports/figures/test_plot.png\"\n",
    ")\n",
    "SAVE: bool = True"
   ]
  },
  {
   "cell_type": "markdown",
   "metadata": {},
   "source": [
    "# Load and transform data"
   ]
  },
  {
   "cell_type": "code",
   "execution_count": 3,
   "metadata": {},
   "outputs": [],
   "source": [
    "data_container = load_boston()"
   ]
  },
  {
   "cell_type": "code",
   "execution_count": 4,
   "metadata": {
    "lines_to_next_cell": 2
   },
   "outputs": [
    {
     "name": "stdout",
     "output_type": "stream",
     "text": [
      "['CRIM' 'ZN' 'INDUS' 'CHAS' 'NOX' 'RM' 'AGE' 'DIS' 'RAD' 'TAX' 'PTRATIO'\n",
      " 'B' 'LSTAT']\n"
     ]
    }
   ],
   "source": [
    "raw_design = data_container[\"data\"]\n",
    "training_num_obs = raw_design.shape[0]\n",
    "training_design_np = np.concatenate(\n",
    "    (np.ones((training_num_obs, 1)), raw_design), axis=1\n",
    ")\n",
    "training_outcomes_np = data_container[\"target\"].ravel()\n",
    "training_design_column_names = (\n",
    "    [\"intercept\"] + [col for col in data_container[\"feature_names\"]]\n",
    ")\n",
    "parameter_names = training_design_column_names + [\"scale\"]"
   ]
  },
  {
   "cell_type": "markdown",
   "metadata": {},
   "source": [
    "# Load models"
   ]
  },
  {
   "cell_type": "code",
   "execution_count": 5,
   "metadata": {},
   "outputs": [],
   "source": [
    "training_design_torch = torch.from_numpy(training_design_np).double()\n",
    "training_outcomes_torch = torch.from_numpy(training_outcomes_np).double()"
   ]
  },
  {
   "cell_type": "code",
   "execution_count": 6,
   "metadata": {},
   "outputs": [],
   "source": [
    "linear_model = LinearGLM.from_input(training_design_torch)\n",
    "folded_logistic_model = FoldedLogisticGLM.from_input(training_design_torch)"
   ]
  },
  {
   "cell_type": "code",
   "execution_count": 7,
   "metadata": {},
   "outputs": [],
   "source": [
    "with torch.no_grad():\n",
    "    linear_preds = linear_model(training_design_torch)\n",
    "    folded_preds = folded_logistic_model(training_design_torch)"
   ]
  },
  {
   "cell_type": "markdown",
   "metadata": {},
   "source": [
    "# Sample parameters from the prior distribution"
   ]
  },
  {
   "cell_type": "code",
   "execution_count": 8,
   "metadata": {},
   "outputs": [
    {
     "name": "stdout",
     "output_type": "stream",
     "text": [
      "(15, 100)\n"
     ]
    }
   ],
   "source": [
    "# Choose the model to simulate from\n",
    "model_dict = {\"folded-logistic\": folded_logistic_model, \"linear\": linear_model}\n",
    "current_model = model_dict[MODEL]\n",
    "\n",
    "# Set a random seed for reproducility\n",
    "np.random.seed(SEED)\n",
    "torch.manual_seed(SEED)\n",
    "\n",
    "# Simulate parameters from the prior\n",
    "prior_sim_parameters = np.empty((len(PRIOR_INFO), NUM_PRIOR_SIM), dtype=float)\n",
    "\n",
    "for pos, key in enumerate(parameter_names):\n",
    "    if PRIOR_INFO[key][\"dist\"] == \"norm\":\n",
    "        prior_sim_parameters[pos, :] = scipy.stats.norm.rvs(\n",
    "            loc = PRIOR_INFO[key][\"loc\"],\n",
    "            scale = PRIOR_INFO[key][\"scale\"],\n",
    "            size = NUM_PRIOR_SIM,\n",
    "        )\n",
    "    elif PRIOR_INFO[key][\"dist\"] == \"foldnorm\":\n",
    "        prior_sim_parameters[pos, :] = scipy.stats.foldnorm.rvs(\n",
    "            c = PRIOR_INFO[key][\"c\"],\n",
    "            loc = PRIOR_INFO[key][\"loc\"],\n",
    "            scale = PRIOR_INFO[key][\"scale\"],\n",
    "            size=NUM_PRIOR_SIM,\n",
    "        )\n",
    "\n",
    "print(prior_sim_parameters.shape)"
   ]
  },
  {
   "cell_type": "markdown",
   "metadata": {},
   "source": [
    "# Sample outcomes from the prior distribution"
   ]
  },
  {
   "cell_type": "code",
   "execution_count": 9,
   "metadata": {},
   "outputs": [],
   "source": [
    "# Draw from the prior predictive distribution\n",
    "prior_sim_outcomes = np.empty((training_design_np.shape[0], NUM_PRIOR_SIM), dtype=float)\n",
    "\n",
    "with torch.no_grad():\n",
    "    for i in range(NUM_PRIOR_SIM):\n",
    "        current_params = prior_sim_parameters[:, i]\n",
    "        current_model.set_params_numpy(current_params)\n",
    "        prior_sim_outcomes[:, i] = current_model.simulate(\n",
    "            training_design_torch, num_sim=1,\n",
    "        ).ravel()\n"
   ]
  },
  {
   "cell_type": "markdown",
   "metadata": {},
   "source": [
    "# Create desired plots"
   ]
  },
  {
   "cell_type": "code",
   "execution_count": 10,
   "metadata": {},
   "outputs": [
    {
     "data": {
      "image/png": "[encoded data removed]",
      "text/plain": [
       "<Figure size 720x432 with 1 Axes>"
      ]
     },
     "metadata": {
      "needs_background": "light"
     },
     "output_type": "display_data"
    }
   ],
   "source": [
    "def percentile_closure(percentile):\n",
    "    def _calc_25th_percentile(array_like):\n",
    "        return np.percentile(array_like, percentile, axis=0)\n",
    "    return _calc_25th_percentile\n",
    "\n",
    "\n",
    "def make_percentile_plot(\n",
    "    calc_percentile_func, design, obs_outcomes, sim_outcomes, col_names, save\n",
    "):\n",
    "    column_idx = col_names.index(COLUMN)\n",
    "    sim_product = sim_outcomes * design[:, column_idx][:, None]\n",
    "    obs_product = obs_outcomes * design[:, column_idx]\n",
    "    percentiles_of_sim_product = calc_percentile_func(sim_product)\n",
    "    percentiles_of_obs_product = calc_percentile_func(obs_product)\n",
    "\n",
    "    p_value = (percentiles_of_sim_product > percentiles_of_obs_product).mean()\n",
    "\n",
    "    sim_label = \"Simulated\"\n",
    "    obs_label = \"Observed = {:.1f}\\nP-value = {:.0%}\".format(\n",
    "        percentiles_of_obs_product, p_value\n",
    "    )\n",
    "\n",
    "    plot = sbn.distplot(\n",
    "        percentiles_of_sim_product, kde=False, hist=True, label=sim_label\n",
    "    )\n",
    "    ymin, ymax = plot.get_ylim()\n",
    "    plot.vlines(\n",
    "        percentiles_of_obs_product,\n",
    "        ymin,\n",
    "        ymax,\n",
    "        label=obs_label,\n",
    "        linestyle=\"dashed\",\n",
    "        color=\"black\",\n",
    "    )\n",
    "\n",
    "    max_obs_product = obs_product.max()\n",
    "    min_obs_product = obs_product.min()\n",
    "\n",
    "    plot.vlines(\n",
    "        obs_product.min(),\n",
    "        ymin,\n",
    "        ymax,\n",
    "        label=f\"Minimum Outcome * {COLUMN} = {min_obs_product}\",\n",
    "        linestyle=\"dotted\",\n",
    "        color=\"black\",\n",
    "    )\n",
    "\n",
    "\n",
    "    plot.vlines(\n",
    "        obs_product.max(),\n",
    "        ymin,\n",
    "        ymax,\n",
    "        label=f\"Maximum Outcome * {COLUMN} = {max_obs_product}\",\n",
    "        linestyle=\"dashdot\",\n",
    "        color=\"black\",\n",
    "    )\n",
    "    plot.legend(loc=\"best\")\n",
    "\n",
    "    xlabel = (\n",
    "        \"{}-Percentile of [Median Home Value * {}]\".format(PERCENTILE, COLUMN)\n",
    "    )\n",
    "    plot.set_xlabel(xlabel)\n",
    "    plot.set_ylabel(\"Count\", rotation=0, labelpad=40)\n",
    "    plot.set_title(MODEL)\n",
    "\n",
    "    plot.figure.set_size_inches(10, 6)\n",
    "    sbn.despine()\n",
    "    plot.figure.tight_layout()\n",
    "    if save:\n",
    "        plot.figure.savefig(PLOT_PATH, dpi=500, bbox_inches=\"tight\")\n",
    "    return plot\n",
    "\n",
    "calc_percentile = percentile_closure(PERCENTILE)\n",
    "\n",
    "percentile_plot = make_percentile_plot(\n",
    "    calc_percentile,\n",
    "    training_design_np,\n",
    "    training_outcomes_np,\n",
    "    prior_sim_outcomes,\n",
    "    training_design_column_names,\n",
    "    SAVE,\n",
    ")"
   ]
  },
  {
   "cell_type": "markdown",
   "metadata": {},
   "source": [
    "# To-Do:\n",
    "Add complete compendium of desired prior predictive plots."
   ]
  },
  {
   "cell_type": "code",
   "execution_count": 11,
   "metadata": {},
   "outputs": [],
   "source": [
    "# Make desired prior predictive plots"
   ]
  }
 ],
 "metadata": {
  "celltoolbar": "Tags",
  "jupytext": {
   "formats": "ipynb,py:light"
  },
  "kernelspec": {
   "display_name": "Python 3",
   "language": "python",
   "name": "python3"
  },
  "language_info": {
   "codemirror_mode": {
    "name": "ipython",
    "version": 3
   },
   "file_extension": ".py",
   "mimetype": "text/x-python",
   "name": "python",
   "nbconvert_exporter": "python",
   "pygments_lexer": "ipython3",
   "version": "3.7.0"
  }
 },
 "nbformat": 4,
 "nbformat_minor": 4
}
