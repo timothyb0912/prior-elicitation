{
 "cells": [
  {
   "cell_type": "code",
   "execution_count": 1,
   "metadata": {},
   "outputs": [],
   "source": [
    "import numpy as np\n",
    "import scipy.stats\n",
    "import torch\n",
    "from sklearn.datasets import load_boston\n",
    "\n",
    "from prior_elicitation.models.folded_logistic_glm import FoldedLogisticGLM\n",
    "from prior_elicitation.models.linear_glm import LinearGLM"
   ]
  },
  {
   "cell_type": "code",
   "execution_count": 2,
   "metadata": {},
   "outputs": [],
   "source": [
    "data_container = load_boston()"
   ]
  },
  {
   "cell_type": "code",
   "execution_count": 3,
   "metadata": {},
   "outputs": [],
   "source": [
    "training_design_np = data_container[\"data\"]\n",
    "training_outcomes_np = data_container[\"target\"].ravel()\n",
    "training_design_column_names = data_container[\"feature_names\"]"
   ]
  },
  {
   "cell_type": "code",
   "execution_count": 4,
   "metadata": {},
   "outputs": [],
   "source": [
    "training_design_torch = torch.from_numpy(training_design_np).double()\n",
    "training_outcomes_torch = torch.from_numpy(training_outcomes_np).double()"
   ]
  },
  {
   "cell_type": "code",
   "execution_count": 5,
   "metadata": {},
   "outputs": [],
   "source": [
    "linear_model = LinearGLM.from_input(training_design_torch)\n",
    "folded_logistic_model = FoldedLogisticGLM.from_input(training_design_torch)"
   ]
  },
  {
   "cell_type": "code",
   "execution_count": 6,
   "metadata": {},
   "outputs": [],
   "source": [
    "with torch.no_grad():\n",
    "    linear_preds = linear_model(training_design_torch)\n",
    "    folded_preds = folded_logistic_model(training_design_torch)"
   ]
  },
  {
   "cell_type": "code",
   "execution_count": 7,
   "metadata": {},
   "outputs": [
    {
     "name": "stdout",
     "output_type": "stream",
     "text": [
      "(14, 100)\n"
     ]
    }
   ],
   "source": [
    "# Choose the model to simulate from\n",
    "current_model = folded_logistic_model\n",
    "\n",
    "# Establish a number of simulations from the prior\n",
    "NUM_PRIOR_SIM = 100\n",
    "\n",
    "# Create a default prior\n",
    "prior_info = {\n",
    "    key: {\"dist\": \"norm\", \"loc\": 0, \"scale\": 1} for key in training_design_column_names\n",
    "}\n",
    "prior_info[\"scale\"] = {\"dist\": \"foldnorm\", \"c\": 0, \"loc\": 10, \"scale\": 1}\n",
    "\n",
    "# Set a random seed for reproducility\n",
    "SEED = 129\n",
    "np.random.seed(SEED)\n",
    "torch.manual_seed(SEED)\n",
    "\n",
    "# Simulate parameters from the prior\n",
    "prior_sim_parameters = np.empty((len(prior_info), NUM_PRIOR_SIM), dtype=float)\n",
    "\n",
    "for pos, key in enumerate(training_design_column_names):\n",
    "    if prior_info[key][\"dist\"] == \"norm\":\n",
    "        prior_sim_parameters[pos, :] = scipy.stats.norm.rvs(\n",
    "            loc = prior_info[key][\"loc\"],\n",
    "            scale = prior_info[key][\"scale\"],\n",
    "            size=NUM_PRIOR_SIM,\n",
    "        )\n",
    "    elif prior_info[key][\"dist\"] == \"foldnorm\":\n",
    "        prior_sim_parameters[pos, :] = scipy.stats.foldnorm.rvs(\n",
    "            c = prior_info[key][\"c\"],\n",
    "            loc = prior_info[key][\"loc\"],\n",
    "            scale = prior_info[key][\"scale\"],\n",
    "            size=NUM_PRIOR_SIM,\n",
    "        )\n",
    "    \n",
    "print(prior_sim_parameters.shape)"
   ]
  },
  {
   "cell_type": "code",
   "execution_count": 8,
   "metadata": {},
   "outputs": [
    {
     "name": "stdout",
     "output_type": "stream",
     "text": [
      "(506, 100)\n"
     ]
    }
   ],
   "source": [
    "# Draw from the prior predictive distribution\n",
    "prior_sim_outcomes = np.empty((training_design_np.shape[0], NUM_PRIOR_SIM), dtype=float)\n",
    "\n",
    "with torch.no_grad():\n",
    "    for i in range(NUM_PRIOR_SIM):\n",
    "        current_params = prior_sim_parameters[:, i]\n",
    "        current_model.set_params_numpy(current_params)\n",
    "        prior_sim_outcomes[:, i] = current_model.simulate(training_design_torch, num_sim=1).numpy()\n",
    "        \n",
    "print(prior_sim_outcomes.shape)"
   ]
  },
  {
   "cell_type": "markdown",
   "metadata": {},
   "source": [
    "# To-Do:\n",
    "Add desired prior predictive plots."
   ]
  },
  {
   "cell_type": "code",
   "execution_count": 9,
   "metadata": {},
   "outputs": [],
   "source": [
    "# Make desired prior predictive plots"
   ]
  }
 ],
 "metadata": {
  "jupytext": {
   "formats": "ipynb,py:light"
  },
  "kernelspec": {
   "display_name": "Python 3",
   "language": "python",
   "name": "python3"
  },
  "language_info": {
   "codemirror_mode": {
    "name": "ipython",
    "version": 3
   },
   "file_extension": ".py",
   "mimetype": "text/x-python",
   "name": "python",
   "nbconvert_exporter": "python",
   "pygments_lexer": "ipython3",
   "version": "3.7.0"
  }
 },
 "nbformat": 4,
 "nbformat_minor": 4
}
